{
 "cells": [
  {
   "cell_type": "code",
   "execution_count": null,
   "metadata": {},
   "outputs": [],
   "source": [
    "import requests # pip install requests\n",
    "import json\n",
    "import os\n",
    "import time\n",
    "from tqdm.notebook import tqdm # pip install tqdm"
   ]
  },
  {
   "cell_type": "markdown",
   "metadata": {},
   "source": [
    "этот ноутбук спасет вашу слаку от забвения"
   ]
  },
  {
   "cell_type": "code",
   "execution_count": null,
   "metadata": {},
   "outputs": [],
   "source": [
    "# вместо смайлика подставить user token из созданного слакового приложения. создать тут https://api.slack.com/apps/"
   ]
  },
  {
   "cell_type": "code",
   "execution_count": null,
   "metadata": {},
   "outputs": [],
   "source": [
    "token = ':)'"
   ]
  },
  {
   "cell_type": "code",
   "execution_count": null,
   "metadata": {},
   "outputs": [],
   "source": [
    "authorization=f\"Bearer {token}\""
   ]
  },
  {
   "cell_type": "markdown",
   "metadata": {},
   "source": [
    "# как получить последние сообщения с канала"
   ]
  },
  {
   "cell_type": "code",
   "execution_count": null,
   "metadata": {},
   "outputs": [],
   "source": [
    "channel = 'C02J0TYKC21' # подставить свой\n",
    "url = f\"https://slack.com/api/conversations.history?channel={channel}\" \n",
    "r = requests.post(url, headers={'Content-type': 'application/json', \"Authorization\": authorization})"
   ]
  },
  {
   "cell_type": "code",
   "execution_count": null,
   "metadata": {},
   "outputs": [],
   "source": [
    "r.json()"
   ]
  },
  {
   "cell_type": "markdown",
   "metadata": {},
   "source": [
    "# выкачать все личные сообщения"
   ]
  },
  {
   "cell_type": "markdown",
   "metadata": {},
   "source": [
    "## получить маппинг пользователей на личные сообщения с ними"
   ]
  },
  {
   "cell_type": "code",
   "execution_count": null,
   "metadata": {},
   "outputs": [],
   "source": [
    "url = \"https://slack.com/api/conversations.list?types=im\"\n",
    "r = requests.post(url, headers={'Content-type': 'application/json', \"Authorization\": authorization})"
   ]
  },
  {
   "cell_type": "code",
   "execution_count": null,
   "metadata": {},
   "outputs": [],
   "source": [
    "user_id_to_dm = {}\n",
    "for ch in r.json()['channels']:\n",
    "    user_id_to_dm[ch['user']] = ch['id']\n",
    "print(user_id_to_dm)"
   ]
  },
  {
   "cell_type": "code",
   "execution_count": null,
   "metadata": {},
   "outputs": [],
   "source": [
    "len(user_id_to_dm)"
   ]
  },
  {
   "cell_type": "markdown",
   "metadata": {},
   "source": [
    "## получить маппинг пользователей на их имена"
   ]
  },
  {
   "cell_type": "code",
   "execution_count": null,
   "metadata": {},
   "outputs": [],
   "source": [
    "url = \"https://slack.com/api/users.list\"\n",
    "r = requests.post(url, headers={'Content-type': 'application/json',\n",
    "                                \"Authorization\": authorization})"
   ]
  },
  {
   "cell_type": "code",
   "execution_count": null,
   "metadata": {},
   "outputs": [],
   "source": [
    "user_id_to_name = {}\n",
    "for member in r.json()['members']:\n",
    "    user_id_to_name[member['id']] = member['profile']['real_name']\n",
    "user_id_to_name"
   ]
  },
  {
   "cell_type": "code",
   "execution_count": null,
   "metadata": {},
   "outputs": [],
   "source": [
    "len(user_id_to_name)"
   ]
  },
  {
   "cell_type": "code",
   "execution_count": null,
   "metadata": {},
   "outputs": [],
   "source": [
    "result_dir = 'slack-history'\n",
    "if not os.path.exists(result_dir):\n",
    "    os.mkdir(result_dir)"
   ]
  },
  {
   "cell_type": "markdown",
   "metadata": {},
   "source": [
    "## собсно качаем сообщения (пока без replies, но всё будет!)"
   ]
  },
  {
   "cell_type": "code",
   "execution_count": null,
   "metadata": {},
   "outputs": [],
   "source": [
    "for i, (user_id, dm_id) in enumerate(tqdm(user_id_to_dm.items())):\n",
    "    name = user_id_to_name.get(user_id, user_id)\n",
    "    print(name)\n",
    "    # именуем так чтобы каждый пользователь точно был уникальный\n",
    "    # а то если человек уволился а потом снова устроился то будет две переписки с ним\n",
    "    dir_name = os.path.join(result_dir, name + f\"_{i}\")\n",
    "    if not os.path.exists(dir_name):\n",
    "        os.mkdir(dir_name)\n",
    "    url = f\"https://slack.com/api/conversations.history?channel={dm_id}&limit=200\"\n",
    "    r = requests.post(url, headers={'Content-type': 'application/json',\n",
    "                                    \"Authorization\": authorization,\n",
    "                                   })\n",
    "    data = r.json()\n",
    "    counter = 0\n",
    "    number_of_messages = len(data['messages'])\n",
    "    filename = os.path.join(dir_name, f\"{counter}.json\")\n",
    "\n",
    "    with open(filename, 'w') as f:\n",
    "        json.dump(data, f)\n",
    "    response_metadata = data.get('response_metadata')\n",
    "    if response_metadata is not None:\n",
    "        next_cursor = data['response_metadata']['next_cursor']\n",
    "        while next_cursor:\n",
    "            counter += 1\n",
    "            url = f\"https://slack.com/api/conversations.history?channel={dm_id}&limit=200&cursor={next_cursor}\"\n",
    "            r = requests.post(url, headers={'Content-type': 'application/json',\n",
    "                                            \"Authorization\": authorization,\n",
    "                                           })\n",
    "            data = r.json()\n",
    "            filename = os.path.join(dir_name, f\"{counter}.json\")\n",
    "\n",
    "            with open(filename, 'w') as f:\n",
    "                json.dump(data, f)\n",
    "            response_metadata = data.get('response_metadata')\n",
    "            if response_metadata is not None:\n",
    "                next_cursor = response_metadata['next_cursor'].replace(\"=\", \"%3D\")\n",
    "            else:\n",
    "                next_cursor = ''\n",
    "            number_of_messages += len(data['messages'])\n",
    "            print(number_of_messages)\n",
    "            time.sleep(0.3)"
   ]
  }
 ],
 "metadata": {
  "kernelspec": {
   "display_name": "med_ner",
   "language": "python",
   "name": "med_ner"
  },
  "language_info": {
   "codemirror_mode": {
    "name": "ipython",
    "version": 3
   },
   "file_extension": ".py",
   "mimetype": "text/x-python",
   "name": "python",
   "nbconvert_exporter": "python",
   "pygments_lexer": "ipython3",
   "version": "3.8.10"
  }
 },
 "nbformat": 4,
 "nbformat_minor": 4
}

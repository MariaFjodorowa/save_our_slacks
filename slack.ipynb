{
 "cells": [
  {
   "cell_type": "code",
   "execution_count": null,
   "metadata": {},
   "outputs": [],
   "source": [
    "import requests # pip install requests\n",
    "import json\n",
    "import os\n",
    "import time\n",
    "from tqdm.notebook import tqdm # pip install tqdm"
   ]
  },
  {
   "cell_type": "markdown",
   "metadata": {},
   "source": [
    "This notebook will save your slack"
   ]
  },
  {
   "cell_type": "code",
   "execution_count": null,
   "metadata": {},
   "outputs": [],
   "source": [
    "# use OAuth user token instead of emodji. create an app with a token here https://api.slack.com/apps/"
   ]
  },
  {
   "cell_type": "code",
   "execution_count": null,
   "metadata": {},
   "outputs": [],
   "source": [
    "token = ':)'"
   ]
  },
  {
   "cell_type": "code",
   "execution_count": null,
   "metadata": {},
   "outputs": [],
   "source": [
    "authorization=f\"Bearer {token}\""
   ]
  },
  {
   "cell_type": "markdown",
   "metadata": {},
   "source": [
    "# how to get last messages from a channel"
   ]
  },
  {
   "cell_type": "code",
   "execution_count": null,
   "metadata": {},
   "outputs": [],
   "source": [
    "channel = '<some_channel>' # подставить свой\n",
    "url = f\"https://slack.com/api/conversations.history?channel={channel}\" \n",
    "r = requests.post(url, headers={'Content-type': 'application/json', \"Authorization\": authorization})"
   ]
  },
  {
   "cell_type": "code",
   "execution_count": null,
   "metadata": {},
   "outputs": [],
   "source": [
    "r.json()"
   ]
  },
  {
   "cell_type": "markdown",
   "metadata": {},
   "source": [
    "# How to download all direct messages"
   ]
  },
  {
   "cell_type": "markdown",
   "metadata": {},
   "source": [
    "## map users' ids to conversations' ids"
   ]
  },
  {
   "cell_type": "code",
   "execution_count": null,
   "metadata": {},
   "outputs": [],
   "source": [
    "url = \"https://slack.com/api/conversations.list?types=im\"\n",
    "r = requests.post(url, headers={'Content-type': 'application/json', \"Authorization\": authorization})"
   ]
  },
  {
   "cell_type": "code",
   "execution_count": null,
   "metadata": {},
   "outputs": [],
   "source": [
    "user_id_to_dm = {}\n",
    "for ch in r.json()['channels']:\n",
    "    user_id_to_dm[ch['user']] = ch['id']\n",
    "print(user_id_to_dm)"
   ]
  },
  {
   "cell_type": "code",
   "execution_count": null,
   "metadata": {},
   "outputs": [],
   "source": [
    "len(user_id_to_dm)"
   ]
  },
  {
   "cell_type": "markdown",
   "metadata": {},
   "source": [
    "## map users' ids to their names"
   ]
  },
  {
   "cell_type": "code",
   "execution_count": null,
   "metadata": {},
   "outputs": [],
   "source": [
    "url = \"https://slack.com/api/users.list\"\n",
    "r = requests.post(url, headers={'Content-type': 'application/json',\n",
    "                                \"Authorization\": authorization})"
   ]
  },
  {
   "cell_type": "code",
   "execution_count": null,
   "metadata": {},
   "outputs": [],
   "source": [
    "user_id_to_name = {}\n",
    "for member in r.json()['members']:\n",
    "    user_id_to_name[member['id']] = member['profile']['real_name']\n",
    "user_id_to_name"
   ]
  },
  {
   "cell_type": "code",
   "execution_count": null,
   "metadata": {},
   "outputs": [],
   "source": [
    "len(user_id_to_name)"
   ]
  },
  {
   "cell_type": "code",
   "execution_count": null,
   "metadata": {},
   "outputs": [],
   "source": [
    "result_dir = 'slack-history'\n",
    "if not os.path.exists(result_dir):\n",
    "    os.mkdir(result_dir)"
   ]
  },
  {
   "cell_type": "markdown",
   "metadata": {},
   "source": [
    "## download direct messages and threads (пока без файлов, но всё будет!)"
   ]
  },
  {
   "cell_type": "code",
   "execution_count": null,
   "metadata": {},
   "outputs": [],
   "source": [
    "def load_messages(url, authorization, dir_name, messages, counter):\n",
    "    r = requests.post(url, headers={'Content-type': 'application/json',\n",
    "                                    \"Authorization\": authorization,\n",
    "                                   })\n",
    "    data = r.json()\n",
    "    number_of_messages = len(data['messages'])\n",
    "    print(number_of_messages)\n",
    "    \n",
    "    response_metadata = data.get('response_metadata')\n",
    "    for message in data['messages']:\n",
    "        msg_timestamp = message['ts']\n",
    "        url =  f\"https://slack.com/api/conversations.replies?channel={dm_id}&ts={msg_timestamp}&limit=1000\"\n",
    "        r = requests.post(url, headers={'Content-type': 'application/json',\n",
    "                                    \"Authorization\": authorization,\n",
    "                                   })\n",
    "        messages.append(r.json())\n",
    "        time.sleep(0.05)\n",
    "    return response_metadata, counter, messages"
   ]
  },
  {
   "cell_type": "code",
   "execution_count": null,
   "metadata": {},
   "outputs": [],
   "source": [
    "for i, (user_id, dm_id) in enumerate(tqdm(user_id_to_dm.items())):\n",
    "    name = user_id_to_name.get(user_id, user_id)\n",
    "    print(name)\n",
    "    # name it so that every user would be unique\n",
    "    # there can be many users with the same real names\n",
    "    filename = os.path.join(result_dir, name + f\"_{i}.json\")\n",
    "\n",
    "    url = f\"https://slack.com/api/conversations.history?channel={dm_id}&limit=200\"\n",
    "    messages = []\n",
    "    response_metadata, counter, messages = load_messages(url,\n",
    "                                                         authorization,\n",
    "                                                         dir_name,\n",
    "                                                         messages,\n",
    "                                                         counter=0\n",
    "                                                        )\n",
    "    if response_metadata is not None:\n",
    "        next_cursor = response_metadata['next_cursor']\n",
    "        while next_cursor:\n",
    "            counter += 1\n",
    "            url = f\"https://slack.com/api/conversations.history?channel={dm_id}&limit=200&cursor={next_cursor}\"\n",
    "            response_metadata, counter, messages = load_messages(url,\n",
    "                                                                authorization,\n",
    "                                                                dir_name,\n",
    "                                                                messages,\n",
    "                                                                counter\n",
    "                                                               )\n",
    "            if response_metadata is not None:\n",
    "                next_cursor = response_metadata['next_cursor'].replace(\"=\", \"%3D\")\n",
    "            else:\n",
    "                next_cursor = ''\n",
    "            \n",
    "            \n",
    "    with open(filename, 'w') as f:\n",
    "        json.dump({'messages':messages}, f)"
   ]
  }
 ],
 "metadata": {
  "kernelspec": {
   "display_name": "med_ner",
   "language": "python",
   "name": "med_ner"
  },
  "language_info": {
   "codemirror_mode": {
    "name": "ipython",
    "version": 3
   },
   "file_extension": ".py",
   "mimetype": "text/x-python",
   "name": "python",
   "nbconvert_exporter": "python",
   "pygments_lexer": "ipython3",
   "version": "3.8.10"
  }
 },
 "nbformat": 4,
 "nbformat_minor": 4
}
